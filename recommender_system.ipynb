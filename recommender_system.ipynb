{
 "cells": [
  {
   "cell_type": "code",
   "execution_count": 50,
   "metadata": {},
   "outputs": [],
   "source": [
    "import pandas as pd\n",
    "import numpy as np\n",
    "import random\n",
    "\n",
    "dat = pd.read_csv('genres .csv')\n",
    "tot = np.array(dat)\n",
    "\n",
    "movies = np.array()\n",
    "x = np.array(dat)\n",
    "X = tot[movies,:]\n",
    "m , n = X.shape\n",
    "y = np.ones((m,1))"
   ]
  },
  {
   "cell_type": "code",
   "execution_count": 51,
   "metadata": {},
   "outputs": [
    {
     "data": {
      "text/plain": [
       "array([11.11867177,  8.00748094,  9.74029444,  7.9824862 ,  6.86332172,\n",
       "       -1.7505648 , -0.70381601, -0.68442397,  3.48738567])"
      ]
     },
     "execution_count": 51,
     "metadata": {},
     "output_type": "execute_result"
    }
   ],
   "source": [
    "import scipy.optimize as op\n",
    "\n",
    "def Sigmoid(z):\n",
    "    return 1/(1 + np.exp(-z));\n",
    "\n",
    "def Gradient(theta,x,y):\n",
    "    m , n = x.shape\n",
    "    theta = theta.reshape((n,1));\n",
    "    y = y.reshape((m,1))\n",
    "    sigmoid_x_theta = Sigmoid(x.dot(theta));\n",
    "    grad = ((x.T).dot(sigmoid_x_theta-y))/m;\n",
    "    return grad.flatten();\n",
    "\n",
    "def CostFunc(theta,x,y):\n",
    "    m,n = x.shape; \n",
    "    theta = theta.reshape((n,1));\n",
    "    y = y.reshape((m,1));\n",
    "    term1 = np.log(Sigmoid(x.dot(theta)));\n",
    "    term2 = np.log(1-Sigmoid(x.dot(theta)));\n",
    "    term1 = term1.reshape((m,1))\n",
    "    term2 = term2.reshape((m,1))\n",
    "    term = y * term1 + (1 - y) * term2;\n",
    "    J = -((np.sum(term))/m);\n",
    "    return J;\n",
    "\n",
    "# intialize X and y\n",
    "#X = np.array([[1,2,3],[1,3,4]]);\n",
    "#y = np.array([[1],[0]]);\n",
    "\n",
    "initial_theta = np.zeros((n));\n",
    "Result = op.minimize(fun = CostFunc, x0 = initial_theta, args = (X, y),method = 'TNC',jac = Gradient);\n",
    "optimal_theta = Result.x;\n",
    "optimal_theta"
   ]
  },
  {
   "cell_type": "code",
   "execution_count": 52,
   "metadata": {
    "scrolled": true
   },
   "outputs": [
    {
     "data": {
      "text/plain": [
       "3                          The Dark Knight Rises\n",
       "12    Pirates of the Caribbean: Dead Man's Chest\n",
       "67                           Monsters vs. Aliens\n",
       "23                            The Golden Compass\n",
       "88                                    Big Hero 6\n",
       "93            Terminator 3: Rise of the Machines\n",
       "57                                        WALL·E\n",
       "9             Batman v Superman: Dawn of Justice\n",
       "47                       Star Trek Into Darkness\n",
       "71         The Mummy: Tomb of the Dragon Emperor\n",
       "93            Terminator 3: Rise of the Machines\n",
       "24                                     King Kong\n",
       "28                                Jurassic World\n",
       "91                  Independence Day: Resurgence\n",
       "62                          The Legend of Tarzan\n",
       "26                    Captain America: Civil War\n",
       "16                                  The Avengers\n",
       "91                  Independence Day: Resurgence\n",
       "39                                  TRON: Legacy\n",
       "11                             Quantum of Solace\n",
       "Name: movie_title, dtype: object"
      ]
     },
     "execution_count": 52,
     "metadata": {},
     "output_type": "execute_result"
    }
   ],
   "source": [
    "m_dat = pd.read_csv('movie_metadata_edited.csv')\n",
    "m_names = m_dat['movie_title']\n",
    "m_genres = m_dat['genres']\n",
    "m_names[movies]"
   ]
  },
  {
   "cell_type": "code",
   "execution_count": 49,
   "metadata": {},
   "outputs": [
    {
     "data": {
      "text/plain": [
       "997                           Comedy|Drama|Romance|Sport\n",
       "422                                 Comedy|Drama|Romance\n",
       "830                                 Comedy|Drama|Romance\n",
       "831                                       Comedy|Romance\n",
       "382                                 Comedy|Drama|Romance\n",
       "846                                 Comedy|Drama|Romance\n",
       "847                        Comedy|Family|Musical|Romance\n",
       "848                                       Comedy|Romance\n",
       "424                                 Comedy|Drama|Romance\n",
       "860                           Comedy|Drama|Romance|Sport\n",
       "863                       Biography|Comedy|Drama|Romance\n",
       "864                                       Comedy|Romance\n",
       "867                                       Comedy|Romance\n",
       "870                                       Comedy|Romance\n",
       "878                                       Comedy|Romance\n",
       "220                                 Comedy|Drama|Romance\n",
       "910                                 Comedy|Drama|Romance\n",
       "862                                 Comedy|Drama|Romance\n",
       "429                                       Comedy|Romance\n",
       "444                                Comedy|Family|Romance\n",
       "495                                       Comedy|Romance\n",
       "728                                 Comedy|Crime|Romance\n",
       "771                                       Comedy|Romance\n",
       "708                                       Comedy|Romance\n",
       "678                                       Comedy|Romance\n",
       "658                                 Comedy|Drama|Romance\n",
       "780                                       Comedy|Romance\n",
       "782                                       Comedy|Romance\n",
       "630                           Comedy|Crime|Drama|Romance\n",
       "628                                       Comedy|Romance\n",
       "                             ...                        \n",
       "740                Action|Fantasy|Horror|Sci-Fi|Thriller\n",
       "71              Action|Adventure|Fantasy|Horror|Thriller\n",
       "145    Action|Adventure|Comedy|Family|Fantasy|Mystery...\n",
       "18         Action|Adventure|Comedy|Family|Fantasy|Sci-Fi\n",
       "477        Action|Adventure|Comedy|Family|Fantasy|Sci-Fi\n",
       "638        Action|Adventure|Comedy|Family|Fantasy|Sci-Fi\n",
       "644                       Action|Fantasy|Sci-Fi|Thriller\n",
       "316                    Action|Adventure|Fantasy|Thriller\n",
       "690                    Action|Adventure|Fantasy|Thriller\n",
       "303                    Action|Adventure|Fantasy|Thriller\n",
       "452             Action|Adventure|Family|Fantasy|Thriller\n",
       "404               Action|Adventure|Fantasy|Horror|Sci-Fi\n",
       "14                       Action|Adventure|Fantasy|Sci-Fi\n",
       "223                      Action|Adventure|Fantasy|Sci-Fi\n",
       "38                       Action|Adventure|Fantasy|Sci-Fi\n",
       "224                      Action|Adventure|Fantasy|Sci-Fi\n",
       "227                      Action|Adventure|Fantasy|Sci-Fi\n",
       "485                      Action|Adventure|Fantasy|Sci-Fi\n",
       "979               Action|Adventure|Family|Fantasy|Sci-Fi\n",
       "0                        Action|Adventure|Fantasy|Sci-Fi\n",
       "129    Action|Adventure|Animation|Comedy|Family|Fanta...\n",
       "160    Action|Adventure|Animation|Fantasy|Romance|Sci-Fi\n",
       "342     Action|Adventure|Animation|Family|Fantasy|Sci-Fi\n",
       "632      Action|Adventure|Fantasy|Horror|Sci-Fi|Thriller\n",
       "33              Action|Adventure|Fantasy|Sci-Fi|Thriller\n",
       "46              Action|Adventure|Fantasy|Sci-Fi|Thriller\n",
       "120             Action|Adventure|Fantasy|Sci-Fi|Thriller\n",
       "199             Action|Adventure|Fantasy|Sci-Fi|Thriller\n",
       "885      Action|Adventure|Family|Fantasy|Sci-Fi|Thriller\n",
       "720             Action|Adventure|Fantasy|Sci-Fi|Thriller\n",
       "Name: genres, Length: 998, dtype: object"
      ]
     },
     "execution_count": 49,
     "metadata": {},
     "output_type": "execute_result"
    }
   ],
   "source": [
    "res = (x@optimal_theta)\n",
    "ans = np.argsort(res)\n",
    "m_genres[ans]"
   ]
  },
  {
   "cell_type": "code",
   "execution_count": 48,
   "metadata": {},
   "outputs": [],
   "source": [
    "def find_com_words (name, words):\n",
    "    count = 0\n",
    "    for word in words:\n",
    "        if (word not in ['The','the','of','Of','at','At','a','Z','and','And','A','in','In','on','On']):\n",
    "            if(name.find(word)!=-1) :\n",
    "                count = count +1\n",
    "    #print(count)\n",
    "    if(count >=2):\n",
    "        return True\n",
    "    else :\n",
    "        return False"
   ]
  },
  {
   "cell_type": "code",
   "execution_count": 47,
   "metadata": {},
   "outputs": [
    {
     "data": {
      "text/plain": [
       "65                                       The Dark Knight\n",
       "1               Pirates of the Caribbean: At World's End\n",
       "17           Pirates of the Caribbean: On Stranger Tides\n",
       "194    Pirates of the Caribbean: The Curse of the Bla...\n",
       "290                                       Batman Forever\n",
       "56                                      Star Trek Beyond\n",
       "152                                            Star Trek\n",
       "562                              Star Trek: Insurrection\n",
       "727                                   Star Trek: Nemesis\n",
       "972                             Star Trek: First Contact\n",
       "488                        The Lost World: Jurassic Park\n",
       "131                                 The Legend of Tarzan\n",
       "85                   Captain America: The Winter Soldier\n",
       "161                   Captain America: The First Avenger\n",
       "Name: movie_title, dtype: object"
      ]
     },
     "execution_count": 47,
     "metadata": {},
     "output_type": "execute_result"
    }
   ],
   "source": [
    "name_class = []\n",
    "for test in m_names[movies]:\n",
    "    words = test.split()\n",
    "    #print(words)\n",
    "    i = 0\n",
    "    for name in m_names:\n",
    "        if(find_com_words(name,words)):\n",
    "            #print(name,i) \n",
    "            if(i not in movies):\n",
    "                name_class.append(i)\n",
    "        i = i+1\n",
    "        \n",
    "name_class = np.array(name_class)     \n",
    "m_names[name_class]"
   ]
  },
  {
   "cell_type": "code",
   "execution_count": 54,
   "metadata": {},
   "outputs": [
    {
     "data": {
      "text/plain": [
       "74"
      ]
     },
     "execution_count": 54,
     "metadata": {},
     "output_type": "execute_result"
    }
   ],
   "source": [
    "np.random.randint(0,100)"
   ]
  }
 ],
 "metadata": {
  "kernelspec": {
   "display_name": "Python 3",
   "language": "python",
   "name": "python3"
  },
  "language_info": {
   "codemirror_mode": {
    "name": "ipython",
    "version": 3
   },
   "file_extension": ".py",
   "mimetype": "text/x-python",
   "name": "python",
   "nbconvert_exporter": "python",
   "pygments_lexer": "ipython3",
   "version": "3.6.7"
  }
 },
 "nbformat": 4,
 "nbformat_minor": 2
}
